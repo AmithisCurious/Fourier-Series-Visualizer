{
  "nbformat": 4,
  "nbformat_minor": 0,
  "metadata": {
    "colab": {
      "provenance": [],
      "authorship_tag": "ABX9TyN635ukbaXvAWF3PdRHzMR3",
      "include_colab_link": true
    },
    "kernelspec": {
      "name": "python3",
      "display_name": "Python 3"
    },
    "language_info": {
      "name": "python"
    }
  },
  "cells": [
    {
      "cell_type": "markdown",
      "metadata": {
        "id": "view-in-github",
        "colab_type": "text"
      },
      "source": [
        "<a href=\"https://colab.research.google.com/github/AmithisCurious/Min-Max-TicTacToe/blob/main/MinMaxTicTacToe.ipynb\" target=\"_parent\"><img src=\"https://colab.research.google.com/assets/colab-badge.svg\" alt=\"Open In Colab\"/></a>"
      ]
    },
    {
      "cell_type": "code",
      "source": [
        "'''import math\n",
        "\n",
        "board = [['-', '-', '-'],\n",
        "         ['-', '-', '-'],\n",
        "         ['-', '-', '-']]\n",
        "\n",
        "\n",
        "def get_board_state(board):\n",
        "    state = ''\n",
        "    for row in board:\n",
        "        state += ''.join(row)\n",
        "    return state\n",
        "\n",
        "def is_board_full(board):\n",
        "    for row in board:\n",
        "        if '-' in row:\n",
        "            return False\n",
        "    return True\n",
        "\n",
        "def evaluate_board(board, player):\n",
        "    # Check rows\n",
        "    for row in board:\n",
        "        if row.count(player) == 3:\n",
        "            return 1\n",
        "    # Check columns\n",
        "    for i in range(3):\n",
        "        if board[0][i] == player and board[1][i] == player and board[2][i] == player:\n",
        "            return 1\n",
        "    # Check diagonals\n",
        "    if board[0][0] == player and board[1][1] == player and board[2][2] == player:\n",
        "        return 1\n",
        "    if board[0][2] == player and board[1][1] == player and board[2][0] == player:\n",
        "        return 1\n",
        "    # No winner\n",
        "    return 0\n",
        "\n",
        "def minimax(board, depth, alpha, beta, is_maximizing_player):\n",
        "    # Base case: return the score of the board if it is a leaf node\n",
        "    if is_board_full(board) or depth == 0:\n",
        "        return evaluate_board(board, 'O'), None\n",
        "\n",
        "    if is_maximizing_player:\n",
        "        max_score = -math.inf\n",
        "        best_move = None\n",
        "        for i in range(3):\n",
        "            for j in range(3):\n",
        "                if board[i][j] == '-':\n",
        "                    board[i][j] = 'X'\n",
        "                    score, _ = minimax(board, depth-1, alpha, beta, False)\n",
        "                    board[i][j] = '-'\n",
        "                    if score > max_score:\n",
        "                        max_score = score\n",
        "                        best_move = (i, j)\n",
        "                    alpha = max(alpha, max_score)\n",
        "                    if beta <= alpha:\n",
        "                        break\n",
        "        return max_score, best_move\n",
        "\n",
        "    else:\n",
        "        min_score = math.inf\n",
        "        best_move = None\n",
        "        for i in range(3):\n",
        "            for j in range(3):\n",
        "                if board[i][j] == '-':\n",
        "                    board[i][j] = 'O'\n",
        "                    score, _ = minimax(board, depth-1, alpha, beta, True)\n",
        "                    board[i][j] = '-'\n",
        "                    if score < min_score:\n",
        "                        min_score = score\n",
        "                        best_move = (i, j)\n",
        "                    beta = min(beta, min_score)\n",
        "                    if beta <= alpha:\n",
        "                        break\n",
        "        return min_score, best_move\n",
        "\n",
        "while True:\n",
        "    # Player's turn\n",
        "    print('Your turn (X):')\n",
        "    row = int(input('Enter row number (0-2): '))\n",
        "    col = int(input('Enter column number (0-2): '))\n",
        "    if board[row][col] != '-':\n",
        "        print('Invalid move, try again.')\n",
        "        continue\n",
        "    board[row][col] = 'X'\n",
        "    print('Board:')"
      ],
      "metadata": {
        "id": "j38_thSIvIrh"
      },
      "execution_count": null,
      "outputs": []
    },
    {
      "cell_type": "code",
      "execution_count": null,
      "metadata": {
        "colab": {
          "base_uri": "https://localhost:8080/"
        },
        "id": "Z0kM9WXayLQI",
        "outputId": "f741b6d4-2a6c-41f9-a943-28775b16220b"
      },
      "outputs": [
        {
          "output_type": "stream",
          "name": "stdout",
          "text": [
            "Looking in indexes: https://pypi.org/simple, https://us-python.pkg.dev/colab-wheels/public/simple/\n",
            "Collecting ColabTurtlePlus\n",
            "  Downloading ColabTurtlePlus-2.0.1-py3-none-any.whl (31 kB)\n",
            "Installing collected packages: ColabTurtlePlus\n",
            "Successfully installed ColabTurtlePlus-2.0.1\n"
          ]
        }
      ],
      "source": [
        "!pip3 install ColabTurtlePlus"
      ]
    },
    {
      "cell_type": "code",
      "source": [
        "#Setting up game env\n",
        "import ColabTurtlePlus.Turtle as turtle\n",
        "turtle.initializeTurtle((600,600),'standard')\n",
        "turtle.turtle_speed = 13\n",
        "turtle.penup()\n",
        "turtle.goto(100,50)\n",
        "turtle.pendown()\n",
        "turtle.fd(100)\n",
        "turtle.bk(300)\n",
        "turtle.penup()\n",
        "turtle.goto(100,50)\n",
        "turtle.pendown()\n",
        "turtle.lt(90)\n",
        "turtle.fd(100)\n",
        "turtle.bk(300)\n",
        "turtle.fd(100)\n",
        "turtle.rt(90)\n",
        "turtle.fd(100)\n",
        "turtle.bk(300)\n",
        "turtle.fd(100)\n",
        "turtle.lt(90)\n",
        "turtle.fd(200)\n",
        "turtle.bk(300)\n",
        "turtle.ht()"
      ],
      "metadata": {
        "colab": {
          "base_uri": "https://localhost:8080/",
          "height": 621
        },
        "id": "vkFfYObL4dpf",
        "outputId": "a16de6c8-81f3-444d-e3fc-c2dfacfc8782"
      },
      "execution_count": null,
      "outputs": [
        {
          "output_type": "display_data",
          "data": {
            "text/plain": [
              "<IPython.core.display.HTML object>"
            ],
            "text/html": [
              "\n",
              "      <svg width=\"600\" height=\"600\">  \n",
              "        <rect width=\"100%\" height=\"100%\" style=\"fill:white;stroke:;stroke-width:1\"/>\n",
              "        \n",
              "        \n",
              "        <line x1=\"400.0\" y1=\"250.0\" x2=\"500.0\" y2=\"250.0\" stroke-linecap=\"round\" style=\"stroke:black;stroke-width:1\" /><line x1=\"500.0\" y1=\"250.0\" x2=\"200.0\" y2=\"250.0\" stroke-linecap=\"round\" style=\"stroke:black;stroke-width:1\" /><line x1=\"400.0\" y1=\"250.0\" x2=\"400.0\" y2=\"150.0\" stroke-linecap=\"round\" style=\"stroke:black;stroke-width:1\" /><line x1=\"400.0\" y1=\"150.0\" x2=\"400.0\" y2=\"450.0\" stroke-linecap=\"round\" style=\"stroke:black;stroke-width:1\" /><line x1=\"400.0\" y1=\"450.0\" x2=\"400.0\" y2=\"350.0\" stroke-linecap=\"round\" style=\"stroke:black;stroke-width:1\" /><line x1=\"400.0\" y1=\"350.0\" x2=\"500.0\" y2=\"350.0\" stroke-linecap=\"round\" style=\"stroke:black;stroke-width:1\" /><line x1=\"500.0\" y1=\"350.0\" x2=\"200.0\" y2=\"350.0\" stroke-linecap=\"round\" style=\"stroke:black;stroke-width:1\" /><line x1=\"200.0\" y1=\"350.0\" x2=\"300.0\" y2=\"350.0\" stroke-linecap=\"round\" style=\"stroke:black;stroke-width:1\" /><line x1=\"300.0\" y1=\"350.0\" x2=\"300.0\" y2=\"150.0\" stroke-linecap=\"round\" style=\"stroke:black;stroke-width:1\" /><line x1=\"300.0\" y1=\"150.0\" x2=\"300.0\" y2=\"450.0\" stroke-linecap=\"round\" style=\"stroke:black;stroke-width:1\" />\n",
              "        \n",
              "        \n",
              "        <g id=\"classic\" visibility=\"hidden\" transform=\"rotate(180,300.0,450.0) translate(300.0, 450.0)\">\n",
              "<polygon points=\"-5,-4.5 0,-2.5 5,-4.5 0,4.5\" transform=\"skewX(0) scale(1,1)\" style=\"stroke:black;fill:black;stroke-width:1\" />\n",
              "<animateTransform id = \"one\" attributeName=\"transform\" \n",
              "                      type=\"scale\"\n",
              "                      from=\"1 1\" to=\"1 1\"\n",
              "                      begin=\"0s\" dur=\"0.01s\"\n",
              "                      repeatCount=\"1\"\n",
              "                      additive=\"sum\"\n",
              "                      fill=\"freeze\"\n",
              "                /><animateTransform attributeName=\"transform\"\n",
              "                    type=\"rotate\"\n",
              "                    from=\"0 0 0\" to =\"-90 0 0\"\n",
              "                    begin=\"one.end\" dur=\"0.25s\"\n",
              "                    repeatCount=\"1\"\n",
              "                    additive=\"sum\"\n",
              "                    fill=\"freeze\"\n",
              "                /></g>\n",
              "      </svg>\n",
              "    "
            ]
          },
          "metadata": {}
        }
      ]
    },
    {
      "cell_type": "code",
      "source": [],
      "metadata": {
        "id": "72MZd4uY3j-M"
      },
      "execution_count": null,
      "outputs": []
    }
  ]
}